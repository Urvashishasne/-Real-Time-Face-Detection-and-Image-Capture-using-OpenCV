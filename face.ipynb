{
 "cells": [
  {
   "cell_type": "code",
   "execution_count": null,
   "metadata": {},
   "outputs": [
    {
     "name": "stdout",
     "output_type": "stream",
     "text": [
      "Press 'y' to save image, 'q' to quit\n"
     ]
    }
   ],
   "source": [
    "import cv2\n",
    "import os\n",
    "\n",
    "face_cascade = cv2.CascadeClassifier('haarcascade_frontalface_alt.xml')\n",
    "cap = cv2.VideoCapture(0)\n",
    "save_path = 'data_faces'\n",
    "if not os.path.exists(save_path):\n",
    "    os.makedirs(save_path)\n",
    "name = input(\"Enter your name: \")\n",
    "img_count = 0  \n",
    "print(\"Press 'y' to save image, 'q' to quit\")\n",
    "while True:\n",
    "    ret, frame = cap.read()\n",
    "    if not ret:\n",
    "        continue\n",
    "    gray = cv2.cvtColor(frame, cv2.COLOR_BGR2GRAY)\n",
    "    faces = face_cascade.detectMultiScale(gray, scaleFactor=1.1, minNeighbors=5)\n",
    "    for (x, y, w, h) in faces:\n",
    "        frame\n",
    "        cv2.rectangle(frame, (x, y), (x + w, y + h), (0, 255, 0), 2)\n",
    "        #face_crop = frame[y:y+h, x:x+w]\n",
    "    cv2.imshow(\"Face Detection\", frame)\n",
    "    key = cv2.waitKey(1) & 0xFF\n",
    "    # Save on pressing 'y'\n",
    "    if key == ord('y') and len(faces) > 0:\n",
    "        #face_crop = cv2.resize(face_crop, (200, 200))\n",
    "        img_count += 1\n",
    "        file_name = os.path.join(save_path, f\"{name}_{img_count}.jpg\")\n",
    "        cv2.imwrite(file_name, frame)\n",
    "        print(f\"[Saved] {file_name}\")\n",
    "\n",
    "    # Exit on 'q'\n",
    "    elif key == ord('q'):\n",
    "        break\n",
    "\n",
    "# Release resources\n",
    "cap.release()\n",
    "cv2.destroyAllWindows()"
   ]
  },
  {
   "cell_type": "code",
   "execution_count": null,
   "metadata": {},
   "outputs": [],
   "source": []
  }
 ],
 "metadata": {
  "kernelspec": {
   "display_name": "Python 3",
   "language": "python",
   "name": "python3"
  },
  "language_info": {
   "codemirror_mode": {
    "name": "ipython",
    "version": 3
   },
   "file_extension": ".py",
   "mimetype": "text/x-python",
   "name": "python",
   "nbconvert_exporter": "python",
   "pygments_lexer": "ipython3",
   "version": "3.11.9"
  }
 },
 "nbformat": 4,
 "nbformat_minor": 2
}
